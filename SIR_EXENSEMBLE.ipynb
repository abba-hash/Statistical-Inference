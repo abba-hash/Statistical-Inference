{
 "cells": [
  {
   "cell_type": "code",
   "execution_count": 1,
   "id": "56a1302c",
   "metadata": {},
   "outputs": [
    {
     "data": {
      "image/svg+xml": [
       "<?xml version=\"1.0\" encoding=\"UTF-8\"?>\n",
       "<svg xmlns=\"http://www.w3.org/2000/svg\" xmlns:xlink=\"http://www.w3.org/1999/xlink\" width=\"250\" height=\"250\" viewBox=\"0 0 250 250\">\n",
       "<defs>\n",
       "<g>\n",
       "<g id=\"glyph-0-0\">\n",
       "<path d=\"M 0.582031 -4.941406 C 0.582031 -6.128906 0.703125 -7.082031 0.945312 -7.804688 C 1.191406 -8.527344 1.554688 -9.082031 2.035156 -9.476562 C 2.515625 -9.867188 3.121094 -10.0625 3.847656 -10.0625 C 4.386719 -10.0625 4.859375 -9.953125 5.265625 -9.738281 C 5.667969 -9.519531 6.003906 -9.210938 6.269531 -8.800781 C 6.53125 -8.394531 6.738281 -7.898438 6.890625 -7.3125 C 7.039062 -6.726562 7.117188 -5.9375 7.117188 -4.941406 C 7.117188 -3.765625 6.996094 -2.816406 6.753906 -2.09375 C 6.511719 -1.371094 6.152344 -0.816406 5.671875 -0.421875 C 5.191406 -0.0273438 4.582031 0.171875 3.847656 0.171875 C 2.882812 0.171875 2.125 -0.175781 1.570312 -0.867188 C 0.910156 -1.703125 0.582031 -3.058594 0.582031 -4.941406 M 1.84375 -4.941406 C 1.84375 -3.296875 2.039062 -2.203125 2.421875 -1.65625 C 2.808594 -1.113281 3.285156 -0.839844 3.847656 -0.839844 C 4.414062 -0.839844 4.890625 -1.113281 5.273438 -1.660156 C 5.660156 -2.207031 5.851562 -3.300781 5.851562 -4.941406 C 5.851562 -6.59375 5.660156 -7.6875 5.273438 -8.230469 C 4.890625 -8.773438 4.410156 -9.042969 3.835938 -9.042969 C 3.269531 -9.042969 2.820312 -8.804688 2.480469 -8.328125 C 2.058594 -7.714844 1.84375 -6.585938 1.84375 -4.941406 Z M 1.84375 -4.941406 \"/>\n",
       "</g>\n",
       "<g id=\"glyph-0-1\">\n",
       "<path d=\"M 5.214844 0 L 3.984375 0 L 3.984375 -7.839844 C 3.6875 -7.558594 3.300781 -7.277344 2.820312 -6.992188 C 2.339844 -6.710938 1.90625 -6.5 1.523438 -6.359375 L 1.523438 -7.546875 C 2.210938 -7.871094 2.8125 -8.261719 3.328125 -8.722656 C 3.84375 -9.183594 4.207031 -9.628906 4.421875 -10.0625 L 5.214844 -10.0625 Z M 5.214844 0 \"/>\n",
       "</g>\n",
       "<g id=\"glyph-0-2\">\n",
       "<path d=\"M 7.046875 -1.183594 L 7.046875 0 L 0.421875 0 C 0.414062 -0.296875 0.460938 -0.582031 0.566406 -0.855469 C 0.734375 -1.304688 1.007812 -1.75 1.378906 -2.1875 C 1.75 -2.625 2.285156 -3.132812 2.988281 -3.703125 C 4.078125 -4.597656 4.8125 -5.304688 5.195312 -5.828125 C 5.578125 -6.347656 5.769531 -6.84375 5.769531 -7.308594 C 5.769531 -7.796875 5.59375 -8.207031 5.246094 -8.542969 C 4.898438 -8.875 4.445312 -9.042969 3.882812 -9.042969 C 3.289062 -9.042969 2.816406 -8.867188 2.460938 -8.511719 C 2.105469 -8.15625 1.925781 -7.664062 1.921875 -7.035156 L 0.65625 -7.164062 C 0.742188 -8.109375 1.070312 -8.828125 1.632812 -9.320312 C 2.199219 -9.816406 2.957031 -10.0625 3.910156 -10.0625 C 4.871094 -10.0625 5.632812 -9.796875 6.195312 -9.261719 C 6.753906 -8.730469 7.035156 -8.070312 7.035156 -7.28125 C 7.035156 -6.878906 6.953125 -6.484375 6.789062 -6.097656 C 6.625 -5.710938 6.351562 -5.300781 5.972656 -4.875 C 5.589844 -4.445312 4.957031 -3.859375 4.074219 -3.109375 C 3.335938 -2.492188 2.863281 -2.070312 2.652344 -1.847656 C 2.441406 -1.628906 2.269531 -1.40625 2.132812 -1.183594 Z M 7.046875 -1.183594 \"/>\n",
       "</g>\n",
       "</g>\n",
       "</defs>\n",
       "<rect x=\"-25\" y=\"-25\" width=\"300\" height=\"300\" fill=\"rgb(100%, 100%, 100%)\" fill-opacity=\"1\"/>\n",
       "<path fill=\"none\" stroke-width=\"1\" stroke-linecap=\"butt\" stroke-linejoin=\"miter\" stroke=\"rgb(70.196078%, 80.392157%, 89.019608%)\" stroke-opacity=\"1\" stroke-miterlimit=\"10\" d=\"M 230 230 L 125 125 \"/>\n",
       "<path fill=\"none\" stroke-width=\"1\" stroke-linecap=\"butt\" stroke-linejoin=\"miter\" stroke=\"rgb(70.196078%, 80.392157%, 89.019608%)\" stroke-opacity=\"1\" stroke-miterlimit=\"10\" d=\"M 125 125 L 20 20 \"/>\n",
       "<path fill-rule=\"nonzero\" fill=\"rgb(98.431373%, 70.588235%, 68.235294%)\" fill-opacity=\"1\" stroke-width=\"1\" stroke-linecap=\"butt\" stroke-linejoin=\"miter\" stroke=\"rgb(0%, 0%, 0%)\" stroke-opacity=\"1\" stroke-miterlimit=\"10\" d=\"M 240 230 C 240 235.523438 235.523438 240 230 240 C 224.476562 240 220 235.523438 220 230 C 220 224.476562 224.476562 220 230 220 C 235.523438 220 240 224.476562 240 230 \"/>\n",
       "<path fill-rule=\"nonzero\" fill=\"rgb(98.431373%, 70.588235%, 68.235294%)\" fill-opacity=\"1\" stroke-width=\"1\" stroke-linecap=\"butt\" stroke-linejoin=\"miter\" stroke=\"rgb(0%, 0%, 0%)\" stroke-opacity=\"1\" stroke-miterlimit=\"10\" d=\"M 135 125 C 135 130.523438 130.519531 135 125 135 C 119.476562 135 115 130.523438 115 125 C 115 119.476562 119.476562 115 125 115 C 130.519531 115 135 119.476562 135 125 \"/>\n",
       "<path fill-rule=\"nonzero\" fill=\"rgb(98.431373%, 70.588235%, 68.235294%)\" fill-opacity=\"1\" stroke-width=\"1\" stroke-linecap=\"butt\" stroke-linejoin=\"miter\" stroke=\"rgb(0%, 0%, 0%)\" stroke-opacity=\"1\" stroke-miterlimit=\"10\" d=\"M 30 20 C 30 25.523438 25.523438 30 20 30 C 14.476562 30 10 25.523438 10 20 C 10 14.476562 14.476562 10 20 10 C 25.523438 10 30 14.476562 30 20 \"/>\n",
       "<g fill=\"rgb(0%, 0%, 0%)\" fill-opacity=\"1\">\n",
       "<use xlink:href=\"#glyph-0-0\" x=\"226.152344\" y=\"237.015625\"/>\n",
       "</g>\n",
       "<g fill=\"rgb(0%, 0%, 0%)\" fill-opacity=\"1\">\n",
       "<use xlink:href=\"#glyph-0-1\" x=\"121.628906\" y=\"132.015625\"/>\n",
       "</g>\n",
       "<g fill=\"rgb(0%, 0%, 0%)\" fill-opacity=\"1\">\n",
       "<use xlink:href=\"#glyph-0-2\" x=\"16.269531\" y=\"27.015625\"/>\n",
       "</g>\n",
       "</svg>\n"
      ],
      "text/plain": [
       "<igraph.drawing.cairo.plot.CairoPlot at 0x1824dccda30>"
      ]
     },
     "execution_count": 1,
     "metadata": {
      "image/svg+xml": {
       "isolated": true
      }
     },
     "output_type": "execute_result"
    }
   ],
   "source": [
    "# Load packages\n",
    "from igraph import *\n",
    "import time\n",
    "import pandas as pd\n",
    "import numpy as np\n",
    "import matplotlib.pyplot as plt\n",
    "import random\n",
    "import math\n",
    "\n",
    "\n",
    "# Create a tree network using igraph method\n",
    "G = Graph.Tree(3, 1)\n",
    "\n",
    "\n",
    "G.vs[\"name\"] = [str(i) for i in range(len(G.vs))]\n",
    "\n",
    "#transforming to dataframe\n",
    "g = pd.DataFrame({'source': [x for e in G.es for x in (e.source, e.target)],\n",
    "                  'target': [x for e in G.es for x in (e.target, e.source)]})\n",
    "#plotting\n",
    "p_style = {\"bbox\": (250, 250), \"vertex_color\": \"#FBB4AE\", \"edge_color\": \"#B3CDE3\"}\n",
    "plot(G, layout=G.layout(\"kk\"), vertex_label=G.vs[\"name\"], **p_style)"
   ]
  },
  {
   "cell_type": "code",
   "execution_count": 2,
   "id": "21daf6e3",
   "metadata": {},
   "outputs": [],
   "source": [
    "# Parameters\n",
    "# Transmission rate\n",
    "beta = 0.5\n",
    "# Recovery rate\n",
    "gamma = 0.5\n",
    "#Time \n",
    "T = 3\n",
    "#Initial probability for infected node\n",
    "p0 = pd.DataFrame({'node': g['source'].unique(), 'prob': 0})\n",
    "p0.loc[p0['node'].isin([1]), 'prob'] = 1"
   ]
  },
  {
   "cell_type": "code",
   "execution_count": 3,
   "id": "20472d3e",
   "metadata": {},
   "outputs": [],
   "source": [
    "def calculate_gamma_exponential(node, graph, a=0.1, b=0.01):\n",
    "    degree = graph[(graph['source'] == node) | (graph['target'] == node)].shape[0]\n",
    "    return a * math.exp(b * degree)"
   ]
  },
  {
   "cell_type": "code",
   "execution_count": 1,
   "id": "4f8f242e",
   "metadata": {},
   "outputs": [],
   "source": [
    "def SIR_EXENSEMBLE(g, p0, beta, T):\n",
    "    # Get initial infection probabilities for each node\n",
    "    start, nodes, init_probs = time.time(), p0['node'].tolist(), p0['prob'].tolist()\n",
    "    \n",
    "    # Create a dictionary to store recovery rates for each node\n",
    "    gamma_dict = {node: calculate_gamma_exponential(node, g) for node in nodes}\n",
    "    \n",
    "    # Initialize probabilities for each state\n",
    "    mrg_s = np.zeros((T, len(nodes)))\n",
    "    mrg_i = np.zeros((T, len(nodes)))\n",
    "    mrg_r = np.zeros((T, len(nodes)))\n",
    "\n",
    "    # Set initial state probabilities\n",
    "    mrg_i[0, :] = np.array(init_probs)\n",
    "    mrg_s[0, :] = 1.0 - np.array(init_probs)\n",
    "\n",
    "    # Precompute neighbors\n",
    "    neighbors = {i: set() for i in nodes}\n",
    "    for edge in g.itertuples(index=False):\n",
    "        source, target = edge.source, edge.target\n",
    "        neighbors[source].add(target)\n",
    "        neighbors[target].add(source)\n",
    "\n",
    "    # Master Equation Simulation\n",
    "    for t in range(1, T):\n",
    "        for i, node in enumerate(nodes):\n",
    "            # Calculate the product term for the S and I updates\n",
    "            product_term = np.prod([1 - beta * mrg_i[t - 1, nodes.index(neighbor)] for neighbor in neighbors[node]])\n",
    "\n",
    "            # Update Susceptible (S)\n",
    "            mrg_s[t, i] = mrg_s[t - 1, i] * product_term\n",
    "\n",
    "            # Update Infected (I)\n",
    "            mrg_i[t, i] = mrg_i[t - 1, i] + (1 - product_term) * mrg_s[t - 1, i] - gamma_dict[node] * mrg_i[t - 1, i]\n",
    "\n",
    "            # Update Recovered (R)\n",
    "            mrg_r[t, i] = mrg_r[t - 1, i] + gamma_dict[node] * mrg_i[t - 1, i]\n",
    "\n",
    "        # Normalize the probabilities to sum to 1\n",
    "        for i in range(len(nodes)):\n",
    "            total = mrg_s[t, i] + mrg_i[t, i] + mrg_r[t, i]\n",
    "            mrg_s[t, i] /= total\n",
    "            mrg_i[t, i] /= total\n",
    "            mrg_r[t, i] /= total\n",
    "                        \n",
    "    print(\"EXENSEMBLE Runtime:   \" + str(round(time.time() - start, 2)) + \" seconds\") \n",
    "    return mrg_s, mrg_i, mrg_r"
   ]
  },
  {
   "cell_type": "code",
   "execution_count": 7,
   "id": "6f4c7e8b",
   "metadata": {},
   "outputs": [],
   "source": [
    "#predicted_s, predicted_i, predicted_r= SIR_EXENSEMBLE(g, p0, beta, T)"
   ]
  },
  {
   "cell_type": "code",
   "execution_count": 8,
   "id": "9d802bc8",
   "metadata": {},
   "outputs": [
    {
     "data": {
      "text/plain": [
       "array([[1.        , 0.        , 1.        ],\n",
       "       [0.5       , 0.        , 0.5       ],\n",
       "       [0.27602027, 0.        , 0.27602027]])"
      ]
     },
     "execution_count": 8,
     "metadata": {},
     "output_type": "execute_result"
    }
   ],
   "source": [
    "#predicted_s"
   ]
  },
  {
   "cell_type": "code",
   "execution_count": 9,
   "id": "5e463ea3",
   "metadata": {},
   "outputs": [
    {
     "data": {
      "text/plain": [
       "array([[0.        , 1.        , 0.        ],\n",
       "       [0.5       , 0.89591892, 0.5       ],\n",
       "       [0.67296966, 0.80267072, 0.67296966]])"
      ]
     },
     "execution_count": 9,
     "metadata": {},
     "output_type": "execute_result"
    }
   ],
   "source": [
    "#predicted_i"
   ]
  },
  {
   "cell_type": "code",
   "execution_count": 10,
   "id": "d8b25970",
   "metadata": {},
   "outputs": [
    {
     "data": {
      "text/plain": [
       "array([[0.        , 0.        , 0.        ],\n",
       "       [0.        , 0.10408108, 0.        ],\n",
       "       [0.05101007, 0.19732928, 0.05101007]])"
      ]
     },
     "execution_count": 10,
     "metadata": {},
     "output_type": "execute_result"
    }
   ],
   "source": [
    "#predicted_r"
   ]
  },
  {
   "cell_type": "code",
   "execution_count": null,
   "id": "bc448245",
   "metadata": {},
   "outputs": [],
   "source": []
  }
 ],
 "metadata": {
  "kernelspec": {
   "display_name": "Python 3 (ipykernel)",
   "language": "python",
   "name": "python3"
  },
  "language_info": {
   "codemirror_mode": {
    "name": "ipython",
    "version": 3
   },
   "file_extension": ".py",
   "mimetype": "text/x-python",
   "name": "python",
   "nbconvert_exporter": "python",
   "pygments_lexer": "ipython3",
   "version": "3.9.13"
  }
 },
 "nbformat": 4,
 "nbformat_minor": 5
}
